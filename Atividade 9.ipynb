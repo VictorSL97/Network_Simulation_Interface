{
 "cells": [
  {
   "cell_type": "code",
   "execution_count": 126,
   "metadata": {},
   "outputs": [],
   "source": [
    "import numpy as np\n",
    "import networkx as nx\n",
    "from igraph import *\n",
    "from tkinter import *\n",
    "from functools import partial"
   ]
  },
  {
   "cell_type": "code",
   "execution_count": 136,
   "metadata": {},
   "outputs": [],
   "source": [
    "edges, G = [], nx.Graph()"
   ]
  },
  {
   "cell_type": "code",
   "execution_count": 148,
   "metadata": {},
   "outputs": [],
   "source": [
    "def first_screen():\n",
    "    graph_main_info = Tk() \n",
    "    graph_main_info.geometry(\"500x300+300+200\") #dimensoes da janela --> Largura x Altura + DistanciaDaMargemEsquerda + DistanciaDaMargemSuperior\n",
    "    graph_main_info.title(\"Tópicos Especiais em Engenharia de Computação 2\") #título da janela\n",
    "    \n",
    "    lb_secondary_title = Label (graph_main_info, text=\"Simulação\", fg= \"orange\", bg=\"white\", font=[\"Verdana\", 16]).pack(pady=50) #criando rótulo\n",
    "    lb_node = Label(graph_main_info, text=\"Número de nós:\", bg=\"white\").place(x=110, y=130)\n",
    "    lb_edge = Label(graph_main_info, text=\"Número de enlaces:\", bg=\"white\").place(x=110, y=180)\n",
    "    \n",
    "    node_qnt_input = Entry(graph_main_info, width=30, bg=\"white\")\n",
    "    node_qnt_input.place(x=110, y=150)\n",
    "    \n",
    "    edge_qnt_input = Entry(graph_main_info, width=30, bg=\"white\")\n",
    "    edge_qnt_input.place(x=110, y=200)\n",
    "    \n",
    "    bt_confirm = Button(graph_main_info, width=10, bg=\"white\", text=\"Confirmar\", command=partial(second_screen_transition, graph_main_info, node_qnt_input, edge_qnt_input)).place(x=275, y=230)\n",
    "    graph_main_info.mainloop()\n",
    "\n",
    "def second_screen_transition(previous_screen, node_qnt, edge_qnt):\n",
    "    second_screen(previous_screen, int(node_qnt.get()), int(edge_qnt.get()))\n",
    "    \n",
    "def second_screen(previous_screen, node_qnt, edge_qnt):\n",
    "    graph_specs = Tk() #criacao de uma janela - instancia de Tk\n",
    "    graph_specs.geometry(\"500x300+300+200\") #dimensoes da janela --> Largura x Altura + DistanciaDaMargemEsquerda + DistanciaDaMargemSuperior\n",
    "    graph_specs.title(\"Tópicos Especiais em Engenharia de Computação 2\") #título da janela\n",
    "    \n",
    "    lb_secondary_title = Label (graph_specs, text=\"Simulação Parte 2\", fg= \"orange\", bg=\"white\", font=[\"Verdana\", 16]).pack(pady=50) #criando rótulo\n",
    "    \n",
    "    dist_vector = []\n",
    "    lb_A_vector = []\n",
    "    lb_B_vector = []\n",
    "\n",
    "    for i in range(1, int(edge_qnt) + 1):\n",
    "        dist_input = Entry(graph_specs, width=30, bg=\"white\")\n",
    "        dist_input.place(x=110, y=20*i + 150)\n",
    "        dist_vector.append(dist_input)\n",
    "        \n",
    "        lb_A_input = Entry(graph_specs, width=30, bg=\"white\")\n",
    "        lb_A_input.place(x=310, y=20*i + 150)\n",
    "        lb_A_vector.append(lb_A_input)\n",
    "        \n",
    "        lb_B_input = Entry(graph_specs, width=30, bg=\"white\")\n",
    "        lb_B_input.place(x=510, y=20*i + 150)\n",
    "        lb_B_vector.append(lb_B_input)\n",
    "        \n",
    "    bt_confirm = Button (graph_specs, width=20, text=\"Cadastrar\", command = partial(process_graph_info, graph_specs, node_qnt, edge_qnt, dist_vector, lb_A_vector, lb_B_vector), bg=\"white\").pack() #criando botao \"cadastrar\"\n",
    "    previous_screen.destroy()\n",
    "    \n",
    "def process_graph_info(previous_screen, node_qnt, edge_qnt, dist_vector, lb_A_vector, lb_B_vector):\n",
    "    processed_dists = []\n",
    "        \n",
    "    for d in dist_vector:\n",
    "        processed_dists.append(int(d.get()))\n",
    "        \n",
    "    newtwork = Graph(node_qnt)\n",
    "    newtwork.es['weight'] = processed_dists\n",
    "    \n",
    "    ascii_default_value = ord('a')\n",
    "    for i in range(edge_qnt):\n",
    "        u = ord(lb_A_vector[i].get()) - ascii_default_value\n",
    "        v = ord(lb_B_vector[i].get()) - ascii_default_value\n",
    "        w = processed_dists[i]\n",
    "        \n",
    "        newtwork.add_edge(u, v)\n",
    "        edges.append((u, v, w))\n",
    "    \n",
    "    create_graph(node_qnt, G)\n",
    "    previous_screen.destroy()\n",
    "    \n",
    "def create_graph(node_qnt, G):    \n",
    "    for e in edges:\n",
    "        G.add_edge(e[0], e[1], weight = e[2])\n",
    "\n",
    "def print_path(G, u, v):\n",
    "    print(nx.shortest_path(G, u, v))\n",
    "\n",
    "def minimum_cost(path, G):\n",
    "    ans = 0\n",
    "    \n",
    "    for i in range(len(path)-1):\n",
    "        u, v = path[i], path[i+1]\n",
    "        \n",
    "        ans += G.adj[u][v]['weight']\n",
    "    \n",
    "    return ans\n",
    "\n",
    "def print_graph(G):\n",
    "    pos=nx.spring_layout(G)\n",
    "    nx.draw(G,pos)\n",
    "    labels = nx.get_edge_attributes(G,'weight')\n",
    "    nx.draw_networkx_edge_labels(G,pos,edge_labels=labels)"
   ]
  },
  {
   "cell_type": "code",
   "execution_count": null,
   "metadata": {},
   "outputs": [],
   "source": [
    "if __name__ == \"__main__\":\n",
    "    first_screen()"
   ]
  },
  {
   "cell_type": "code",
   "execution_count": 151,
   "metadata": {},
   "outputs": [
    {
     "name": "stdout",
     "output_type": "stream",
     "text": [
      "Minimum Path Cost 15\n"
     ]
    },
    {
     "data": {
      "image/png": "[encoded data removed]",
      "text/plain": [
       "<matplotlib.figure.Figure at 0x184b30ca630>"
      ]
     },
     "metadata": {},
     "output_type": "display_data"
    }
   ],
   "source": [
    "print_graph(G)\n",
    "print(\"Minimum Path Cost\", minimum_cost(nx.shortest_path(G, 0, 1), G))"
   ]
  },
  {
   "cell_type": "code",
   "execution_count": 120,
   "metadata": {},
   "outputs": [
    {
     "name": "stdout",
     "output_type": "stream",
     "text": [
      "0.6\n",
      "0.2\n",
      "0.3\n",
      "0.6\n",
      "0.2\n",
      "0.1\n",
      "0.7\n",
      "0.9\n",
      "0.1\n",
      "0.3\n",
      "0.7\n",
      "0.9\n"
     ]
    }
   ],
   "source": [
    "for u, adj_u in zip(G.adj.keys(), G.adj.values()):\n",
    "    for v in adj_u:\n",
    "        print(G.adj[u][v]['weight'])"
   ]
  }
 ],
 "metadata": {
  "kernelspec": {
   "display_name": "Python 3",
   "language": "python",
   "name": "python3"
  },
  "language_info": {
   "codemirror_mode": {
    "name": "ipython",
    "version": 3
   },
   "file_extension": ".py",
   "mimetype": "text/x-python",
   "name": "python",
   "nbconvert_exporter": "python",
   "pygments_lexer": "ipython3",
   "version": "3.6.4"
  }
 },
 "nbformat": 4,
 "nbformat_minor": 2
}
