{
 "cells": [
  {
   "cell_type": "code",
   "execution_count": 6,
   "metadata": {},
   "outputs": [],
   "source": [
    "#imports\n",
    "import matplotlib.pyplot as plt\n",
    "import networkx as nx\n",
    "from igraph import *\n",
    "from tkinter import *\n",
    "from functools import partial\n",
    "import numpy as np"
   ]
  },
  {
   "cell_type": "code",
   "execution_count": 111,
   "metadata": {},
   "outputs": [
    {
     "name": "stdout",
     "output_type": "stream",
     "text": [
      "1 2 3\n",
      "a b c\n",
      "b c a\n",
      "IGRAPH U-W- 3 3 --\n",
      "+ attr: label (v), weight (e)\n",
      "+ edges:\n",
      "0--1 1--2 0--2\n",
      "['a' 'b' 'c']\n",
      "[1, 2, 3]\n"
     ]
    }
   ],
   "source": [
    "def chamar_tela_login():\n",
    "    tela_login = Tk() \n",
    "    tela_login.geometry(\"500x300+300+200\") #dimensoes da janela --> Largura x Altura + DistanciaDaMargemEsquerda + DistanciaDaMargemSuperior\n",
    "    tela_login.title(\"Tópicos Especiais em Engenharia de Computação 2\") #título da janela\n",
    "    \n",
    "    lb_inicial = Label (tela_login, text=\"Simulação\", fg= \"orange\", bg=\"white\", font=[\"Verdana\", 16]).pack(pady=50) #criando rótulo\n",
    "    lb_login = Label(tela_login, text=\"Número de nós:\", bg=\"white\").place(x=110, y=130)\n",
    "    lb_senha = Label(tela_login, text=\"Número de enlaces:\", bg=\"white\").place(x=110, y=180)\n",
    "    \n",
    "    entrada_login = Entry(tela_login, width=30, bg=\"white\")\n",
    "    entrada_login.place(x=110, y=150)\n",
    "    \n",
    "    entrada_senha = Entry(tela_login, width=30, bg=\"white\")\n",
    "    entrada_senha.place(x=110, y=200)\n",
    "    \n",
    "    bt_logar = Button(tela_login, width=10, bg=\"white\", text=\"Confirmar\", command=partial(escolhe_tela, tela_login, entrada_login, entrada_senha)).place(x=275, y=230)\n",
    "    tela_login.mainloop()\n",
    "\n",
    "def escolhe_tela(tela_anterior, nos, enlaces):\n",
    "    chamar_tela_inicial(tela_anterior, nos.get(), enlaces.get())\n",
    "    \n",
    "def chamar_tela_inicial(tela_anterior, n_nos, n_enlaces):\n",
    "    tela_inicial = Tk() #criacao de uma janela - instancia de Tk\n",
    "    tela_inicial.geometry(\"500x300+300+200\") #dimensoes da janela --> Largura x Altura + DistanciaDaMargemEsquerda + DistanciaDaMargemSuperior\n",
    "    tela_inicial.title(\"Tópicos Especiais em Engenharia de Computação 2\") #título da janela\n",
    "    \n",
    "    lb_inicial = Label (tela_inicial, text=\"Simulação Parte 2\", fg= \"orange\", bg=\"white\", font=[\"Verdana\", 16]).pack(pady=50) #criando rótulo\n",
    "    \n",
    "    vetor_dist = []\n",
    "    vetor_lb_no_A = []\n",
    "    vetor_lb_no_B = []\n",
    "\n",
    "    for i in range(1, int(n_enlaces) + 1):\n",
    "        entrada_dist = Entry(tela_inicial, width=30, bg=\"white\")\n",
    "        entrada_dist.place(x=110, y=20*i + 150)\n",
    "        vetor_dist.append(entrada_dist)\n",
    "        \n",
    "        entrada_lb_A = Entry(tela_inicial, width=30, bg=\"white\")\n",
    "        entrada_lb_A.place(x=310, y=20*i + 150)\n",
    "        vetor_lb_no_A.append(entrada_lb_A)\n",
    "        \n",
    "        entrada_lb_B = Entry(tela_inicial, width=30, bg=\"white\")\n",
    "        entrada_lb_B.place(x=510, y=20*i + 150)\n",
    "        vetor_lb_no_B.append(entrada_lb_B)\n",
    "        \n",
    "    bt_cadastrar = Button (tela_inicial, width=20, text=\"Cadastrar\", command = partial(show_entry, tela_inicial, n_nos, n_enlaces, vetor_dist, vetor_lb_no_A, vetor_lb_no_B), bg=\"white\").pack() #criando botao \"cadastrar\"\n",
    "    tela_anterior.destroy()\n",
    "    \n",
    "def show_entry(tela_anterior, n_nos, n_enlaces, vetor_dist, vetor_lb_no_A, vetor_lb_no_B):\n",
    "    print(vetor_dist[0].get(), vetor_dist[1].get(), vetor_dist[2].get())\n",
    "    print(vetor_lb_no_A[0].get(), vetor_lb_no_A[1].get(), vetor_lb_no_A[2].get())\n",
    "    print(vetor_lb_no_B[0].get(), vetor_lb_no_B[1].get(), vetor_lb_no_B[2].get())\n",
    "    \n",
    "    labels = []\n",
    "    dists = []\n",
    "    dists.append([int(x.get()) for x in vetor_dist])\n",
    "    labels.append([x.get() for x in vetor_lb_no_A])\n",
    "    labels.append([x.get() for x in vetor_lb_no_B])\n",
    "        \n",
    "    labels = np.unique(labels)\n",
    "        \n",
    "    g = Graph(int(n_nos))\n",
    "    g.vs[\"label\"]=labels\n",
    "    g.es[\"weight\"]=dists[0]\n",
    "    \n",
    "    for i in range(int(n_enlaces)):\n",
    "        g.add_edge(ord(vetor_lb_no_A[i].get()) - ord('a'), ord(vetor_lb_no_B[i].get()) - ord('a'))\n",
    "    \n",
    "    print(g)\n",
    "    print(labels)\n",
    "    print(dists[0])\n",
    "    \n",
    "    tela_anterior.destroy()\n",
    "\n",
    "if __name__ == \"__main__\":\n",
    "\n",
    "    chamar_tela_login()"
   ]
  },
  {
   "cell_type": "code",
   "execution_count": 113,
   "metadata": {},
   "outputs": [
    {
     "name": "stdout",
     "output_type": "stream",
     "text": [
      "IGRAPH U-W- 9 14 --\n",
      "+ attr: label (v), weight (e)\n",
      "+ edges:\n",
      "0 -- 1 2 3       2 -- 0 1 5       4 -- 1 5 8       6 -- 3 5 7       8 -- 4 7\n",
      "1 -- 0 2 4       3 -- 0 5 6       5 -- 2 3 4 6 7   7 -- 5 6 8\n",
      "[[0, 2, 1], [0, 2], [0, 3], [0, 2, 1, 4], [0, 2, 5], [0, 2, 5, 6], [0, 2, 1, 4, 8, 7], [0, 2, 1, 4, 8]]\n"
     ]
    }
   ],
   "source": [
    "g = ig.Graph(9)\n",
    "\n",
    "g.add_edge(0,1)\n",
    "g.add_edges([(0,2),(0,3),(1,2),(1,4),(2,5),(3,5),(3,6),(4,5),(4,8),\n",
    "(5,6),(5,7),(6,7),(7,8)])\n",
    "\n",
    "g.vs[\"label\"]=[\"Sydney\",\"Melbourne\",\"Canberra\",\"Brisbane\",\"Adelaide\", \"Alice Springs\",\"Cairns\",\"Darwin\",\"Perth\"]\n",
    "\n",
    "g.es[\"weight\"]=[12, 4, 9, 6, 1, 8, 15, 31, 22, 8, 15, 32,\n",
    "24, 15, 30, 48]\n",
    "\n",
    "print(g)\n",
    "\n",
    "shortestPaths=g.get_shortest_paths(0,weights=g.es[\"weight\"],output=\"vpath\")[1:]\n",
    "print(shortestPaths)\n",
    "\n",
    "# [g.vs[i][\"label\"] for i in shortestPaths]"
   ]
  },
  {
   "cell_type": "code",
   "execution_count": 8,
   "metadata": {},
   "outputs": [
    {
     "data": {
      "text/plain": [
       "{(1, 2): Text(1.5,1.5,'0.5'), (1, 3): Text(1,0.5,'9.8')}"
      ]
     },
     "execution_count": 8,
     "metadata": {},
     "output_type": "execute_result"
    },
    {
     "data": {
      "image/png": "[encoded data removed]",
      "text/plain": [
       "<matplotlib.figure.Figure at 0xfdc34b5cc0>"
      ]
     },
     "metadata": {},
     "output_type": "display_data"
    }
   ],
   "source": [
    "G=nx.Graph()\n",
    "i=1\n",
    "G.add_node(i,pos=(i,i))\n",
    "G.add_node(2,pos=(2,2))\n",
    "G.add_node(3,pos=(1,0))\n",
    "G.add_edge(1,2,weight=0.5)\n",
    "G.add_edge(1,3,weight=9.8)\n",
    "pos=nx.get_node_attributes(G,'pos')\n",
    "nx.draw(G,pos)\n",
    "labels = nx.get_edge_attributes(G,'weight')\n",
    "nx.draw_networkx_edge_labels(G,pos,edge_labels=labels)\n",
    "# plt.savefig(<wherever>)\n"
   ]
  }
 ],
 "metadata": {
  "kernelspec": {
   "display_name": "Python 3",
   "language": "python",
   "name": "python3"
  },
  "language_info": {
   "codemirror_mode": {
    "name": "ipython",
    "version": 3
   },
   "file_extension": ".py",
   "mimetype": "text/x-python",
   "name": "python",
   "nbconvert_exporter": "python",
   "pygments_lexer": "ipython3",
   "version": "3.6.4"
  }
 },
 "nbformat": 4,
 "nbformat_minor": 2
}
