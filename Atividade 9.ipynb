{
 "cells": [
  {
   "cell_type": "code",
   "execution_count": null,
   "metadata": {},
   "outputs": [],
   "source": [
    "import numpy as np\n",
    "import networkx as nx\n",
    "from igraph import *\n",
    "from tkinter import *\n",
    "from functools import partial\n",
    "from matplotlib import pyplot as plt \n",
    "from matplotlib.backends.backend_tkagg import FigureCanvasTkAgg, NavigationToolbar2TkAgg\n"
   ]
  },
  {
   "cell_type": "code",
   "execution_count": null,
   "metadata": {},
   "outputs": [],
   "source": [
    "edges, G = [], nx.Graph()"
   ]
  },
  {
   "cell_type": "code",
   "execution_count": null,
   "metadata": {},
   "outputs": [],
   "source": [
    "def first_screen():\n",
    "    graph_main_info = Tk() \n",
    "    graph_main_info.geometry(\"{0}x{1}+0+0\".format(graph_main_info.winfo_screenwidth(), graph_main_info.winfo_screenheight()))\n",
    "    graph_main_info.title(\"Tópicos Especiais em Engenharia de Computação 2\")\n",
    "    \n",
    "    lb_secondary_title = Label (graph_main_info, text=\"Simulação\", fg= \"orange\", bg=\"white\", font=[\"Verdana\", 16]).pack(pady=50) \n",
    "    lb_node = Label(graph_main_info, text=\"Número de nós:\", bg=\"white\").place(x=110, y=130)\n",
    "    lb_edge = Label(graph_main_info, text=\"Número de enlaces:\", bg=\"white\").place(x=110, y=180)\n",
    "    \n",
    "    node_qnt_input = Entry(graph_main_info, width=30, bg=\"white\")\n",
    "    node_qnt_input.place(x=110, y=150)\n",
    "    \n",
    "    edge_qnt_input = Entry(graph_main_info, width=30, bg=\"white\")\n",
    "    edge_qnt_input.place(x=110, y=200)\n",
    "    \n",
    "    bt_confirm = Button(graph_main_info, width=10, bg=\"white\", text=\"Confirmar\", command=partial(second_screen_transition, graph_main_info, node_qnt_input, edge_qnt_input)).place(x=275, y=230)\n",
    "    graph_main_info.mainloop()\n",
    "\n",
    "def second_screen_transition(previous_screen, node_qnt, edge_qnt):\n",
    "    second_screen(previous_screen, int(node_qnt.get()), int(edge_qnt.get()))\n",
    "    \n",
    "def second_screen(previous_screen, node_qnt, edge_qnt):\n",
    "    graph_specs = Tk()\n",
    "    graph_specs.geometry(\"{0}x{1}+0+0\".format(graph_specs.winfo_screenwidth(), graph_specs.winfo_screenheight())) \n",
    "    graph_specs.title(\"Tópicos Especiais em Engenharia de Computação 2\") \n",
    "    \n",
    "    lb_secondary_title = Label (graph_specs, text=\"Simulação Parte 2\", fg= \"orange\", bg=\"white\", font=[\"Verdana\", 16]).pack(pady=50) \n",
    "    \n",
    "    dist_vector = []\n",
    "    lb_A_vector = []\n",
    "    lb_B_vector = []\n",
    "\n",
    "    for i in range(1, int(edge_qnt) + 1):\n",
    "        dist_input = Entry(graph_specs, width=30, bg=\"white\")\n",
    "        dist_input.place(x=110, y=20*i + 150)\n",
    "        dist_vector.append(dist_input)\n",
    "        \n",
    "        lb_A_input = Entry(graph_specs, width=30, bg=\"white\")\n",
    "        lb_A_input.place(x=310, y=20*i + 150)\n",
    "        lb_A_vector.append(lb_A_input)\n",
    "        \n",
    "        lb_B_input = Entry(graph_specs, width=30, bg=\"white\")\n",
    "        lb_B_input.place(x=510, y=20*i + 150)\n",
    "        lb_B_vector.append(lb_B_input)\n",
    "        \n",
    "    bt_confirm = Button (graph_specs, width=20, text=\"Cadastrar\", command = partial(process_graph_info, graph_specs, node_qnt, edge_qnt, dist_vector, lb_A_vector, lb_B_vector), bg=\"white\").pack() \n",
    "    previous_screen.destroy()\n",
    "    \n",
    "    \n",
    "def process_graph_info(previous_screen, node_qnt, edge_qnt, dist_vector, lb_A_vector, lb_B_vector):\n",
    "    processed_dists = []\n",
    "        \n",
    "    for d in dist_vector:\n",
    "        processed_dists.append(int(d.get()))\n",
    "        \n",
    "    newtwork = Graph(node_qnt)\n",
    "    newtwork.es['weight'] = processed_dists\n",
    "    \n",
    "    ascii_default_value = ord('a')\n",
    "    for i in range(edge_qnt):\n",
    "        u = ord(lb_A_vector[i].get()) - ascii_default_value\n",
    "        v = ord(lb_B_vector[i].get()) - ascii_default_value\n",
    "        w = processed_dists[i]\n",
    "        \n",
    "        newtwork.add_edge(u, v)\n",
    "        edges.append((u, v, w))\n",
    "    \n",
    "    create_graph(node_qnt, G)\n",
    "    previous_screen.destroy()\n",
    "    \n",
    "def create_graph(node_qnt, G):    \n",
    "    for e in edges:\n",
    "        G.add_edge(e[0], e[1], weight = e[2])\n",
    "\n",
    "def print_path(G, u, v):\n",
    "    print(nx.shortest_path(G, u, v))\n",
    "\n",
    "def minimum_cost(path, G):\n",
    "    ans = 0\n",
    "    \n",
    "    for i in range(len(path)-1):\n",
    "        u, v = path[i], path[i+1]\n",
    "        \n",
    "        ans += G.adj[u][v]['weight']\n",
    "    \n",
    "    return ans\n",
    "\n",
    "def print_graph(G):\n",
    "    pos=nx.spring_layout(G)\n",
    "    nx.draw(G,pos)\n",
    "    labels = nx.get_edge_attributes(G,'weight')\n",
    "    nx.draw_networkx_edge_labels(G,pos,edge_labels=labels)\n",
    "    \n",
    "    x = plt.savefig('graph')\n",
    "    "
   ]
  },
  {
   "cell_type": "code",
   "execution_count": null,
   "metadata": {},
   "outputs": [],
   "source": [
    "if __name__ == \"__main__\":\n",
    "    first_screen()"
   ]
  },
  {
   "cell_type": "code",
   "execution_count": null,
   "metadata": {},
   "outputs": [],
   "source": [
    "print_graph(G)"
   ]
  },
  {
   "cell_type": "code",
   "execution_count": null,
   "metadata": {},
   "outputs": [],
   "source": [
    "from random import randrange\n",
    "\n",
    "n, size = randrange(0, G.size()), G.number_of_nodes()\n",
    "for i in range(n):\n",
    "    u, v = randrange(0, size), randrange(0, size)\n",
    "    \n",
    "    print('Minimum Cost from', u, 'to', v, ':', minimum_cost(nx.shortest_path(G, u, v), G))\n",
    "    \n",
    "    print('Path: ', end='')\n",
    "    print_path(G, u, v)"
   ]
  }
 ],
 "metadata": {
  "kernelspec": {
   "display_name": "Python 3",
   "language": "python",
   "name": "python3"
  },
  "language_info": {
   "codemirror_mode": {
    "name": "ipython",
    "version": 3
   },
   "file_extension": ".py",
   "mimetype": "text/x-python",
   "name": "python",
   "nbconvert_exporter": "python",
   "pygments_lexer": "ipython3",
   "version": "3.6.4"
  }
 },
 "nbformat": 4,
 "nbformat_minor": 2
}
