{
 "cells": [
  {
   "cell_type": "markdown",
   "metadata": {},
   "source": [
    "# Dupla:\n",
    "    - Victor Souza Lopes\n",
    "    - Vitor Matheus de Souza Carvalho"
   ]
  },
  {
   "cell_type": "markdown",
   "metadata": {},
   "source": [
    "Bibliotecas necessárias "
   ]
  },
  {
   "cell_type": "code",
   "execution_count": 3,
   "metadata": {},
   "outputs": [],
   "source": [
    "import numpy as np\n",
    "import networkx as nx\n",
    "from igraph import *\n",
    "from tkinter import *\n",
    "from functools import partial\n",
    "from matplotlib import pyplot as plt \n",
    "from queue import PriorityQueue as priority_queue\n",
    "from random import randrange"
   ]
  },
  {
   "cell_type": "markdown",
   "metadata": {},
   "source": [
    "Criação do vetor de arestas e do Grafo utilizando a biblioteca NetworkX"
   ]
  },
  {
   "cell_type": "code",
   "execution_count": 6,
   "metadata": {},
   "outputs": [],
   "source": [
    "edges, occupied_edges G, calls, lamda_20, lamda_40, lamda_80, lamda_100 = [], [], 100, nx.Graph(), 20, 40, 80, 100"
   ]
  },
  {
   "cell_type": "markdown",
   "metadata": {},
   "source": [
    "Definição das funções de chamada das telas da interface criada utilizando a biblioteca TKinter. A aplicação tem duas telas: na primeira tela o usuário insere o número de nós e arestas do grafo; na segunda tela o usuário insere as especificações do grafo, no formato (custo, vértice de origem, vértice de chegada)"
   ]
  },
  {
   "cell_type": "code",
   "execution_count": 5,
   "metadata": {},
   "outputs": [],
   "source": [
    "def first_screen():\n",
    "    graph_main_info = Tk() \n",
    "    graph_main_info.geometry(\"{0}x{1}+0+0\".format(graph_main_info.winfo_screenwidth(), graph_main_info.winfo_screenheight()))\n",
    "    graph_main_info.title(\"Tópicos Especiais em Engenharia de Computação 2\")\n",
    "    \n",
    "    lb_secondary_title = Label (graph_main_info, text=\"Simulação\", fg= \"orange\", bg=\"white\", font=[\"Verdana\", 16]).pack(pady=50) \n",
    "    lb_node = Label(graph_main_info, text=\"Número de nós:\", bg=\"white\").place(x=110, y=130)\n",
    "    lb_edge = Label(graph_main_info, text=\"Número de enlaces:\", bg=\"white\").place(x=110, y=180)\n",
    "    \n",
    "    node_qnt_input = Entry(graph_main_info, width=30, bg=\"white\")\n",
    "    node_qnt_input.place(x=110, y=150)\n",
    "    \n",
    "    edge_qnt_input = Entry(graph_main_info, width=30, bg=\"white\")\n",
    "    edge_qnt_input.place(x=110, y=200)\n",
    "    \n",
    "    bt_confirm = Button(graph_main_info, width=10, bg=\"white\", text=\"Confirmar\", command=partial(second_screen_transition, graph_main_info, node_qnt_input, edge_qnt_input)).place(x=275, y=230)\n",
    "    graph_main_info.mainloop()\n",
    "\n",
    "def second_screen_transition(previous_screen, node_qnt, edge_qnt):\n",
    "    second_screen(previous_screen, int(node_qnt.get()), int(edge_qnt.get()))\n",
    "    \n",
    "def second_screen(previous_screen, node_qnt, edge_qnt):\n",
    "    graph_specs = Tk()\n",
    "    graph_specs.geometry(\"{0}x{1}+0+0\".format(graph_specs.winfo_screenwidth(), graph_specs.winfo_screenheight())) \n",
    "    graph_specs.title(\"Tópicos Especiais em Engenharia de Computação 2\") \n",
    "    \n",
    "    lb_secondary_title = Label (graph_specs, text=\"Simulação Parte 2\", fg= \"orange\", bg=\"white\", font=[\"Verdana\", 16]).pack(pady=50) \n",
    "    \n",
    "    dist_vector = []\n",
    "    lb_A_vector = []\n",
    "    lb_B_vector = []\n",
    "\n",
    "    for i in range(1, int(edge_qnt) + 1):\n",
    "        dist_input = Entry(graph_specs, width=30, bg=\"white\")\n",
    "        dist_input.place(x=110, y=20*i + 150)\n",
    "        dist_vector.append(dist_input)\n",
    "        \n",
    "        lb_A_input = Entry(graph_specs, width=30, bg=\"white\")\n",
    "        lb_A_input.place(x=310, y=20*i + 150)\n",
    "        lb_A_vector.append(lb_A_input)\n",
    "        \n",
    "        lb_B_input = Entry(graph_specs, width=30, bg=\"white\")\n",
    "        lb_B_input.place(x=510, y=20*i + 150)\n",
    "        lb_B_vector.append(lb_B_input)\n",
    "        \n",
    "    bt_confirm = Button (graph_specs, width=20, text=\"Cadastrar\", command = partial(process_graph_info, graph_specs, node_qnt, edge_qnt, dist_vector, lb_A_vector, lb_B_vector), bg=\"white\").pack() \n",
    "    previous_screen.destroy()\n",
    "    \n",
    "    \n",
    "def process_graph_info(previous_screen, node_qnt, edge_qnt, dist_vector, lb_A_vector, lb_B_vector):\n",
    "    processed_dists = []\n",
    "        \n",
    "    for d in dist_vector:\n",
    "        processed_dists.append(int(d.get()))\n",
    "        \n",
    "    newtwork = Graph(node_qnt)\n",
    "    newtwork.es['weight'] = processed_dists\n",
    "    \n",
    "    ascii_default_value = ord('a')\n",
    "    for i in range(edge_qnt):\n",
    "        u = ord(lb_A_vector[i].get()) - ascii_default_value\n",
    "        v = ord(lb_B_vector[i].get()) - ascii_default_value\n",
    "        w = processed_dists[i]\n",
    "        \n",
    "        newtwork.add_edge(u, v)\n",
    "        edges.append((u, v, w))\n",
    "    \n",
    "    create_graph(node_qnt, G)\n",
    "    previous_screen.destroy()\n",
    "    \n",
    "def create_graph(node_qnt, G):    \n",
    "    for e in edges:\n",
    "        G.add_edge(e[0], e[1], weight = e[2])\n",
    "\n",
    "def print_path(G, u, v):\n",
    "    print(nx.shortest_path(G, u, v))\n",
    "\n",
    "def minimum_cost(path, G):\n",
    "    ans = 0\n",
    "    \n",
    "    for i in range(len(path)-1):\n",
    "        u, v = path[i], path[i+1]\n",
    "        \n",
    "        ans += G.adj[u][v]['weight']\n",
    "    \n",
    "    return ans\n",
    "\n",
    "def print_graph(G):\n",
    "    pos=nx.spring_layout(G)\n",
    "    nx.draw(G,pos)\n",
    "    labels = nx.get_edge_attributes(G,'weight')\n",
    "    nx.draw_networkx_edge_labels(G,pos,edge_labels=labels)\n",
    "    \n",
    "    x = plt.savefig('graph')\n",
    "    "
   ]
  },
  {
   "cell_type": "markdown",
   "metadata": {},
   "source": [
    "Função principal que chama a interface"
   ]
  },
  {
   "cell_type": "code",
   "execution_count": 6,
   "metadata": {},
   "outputs": [],
   "source": [
    "if __name__ == \"__main__\":\n",
    "    first_screen()"
   ]
  },
  {
   "cell_type": "markdown",
   "metadata": {},
   "source": [
    "Imagem do grafo gerado pela entrada do usuário. Para efeito de exemplo, foi utilizado o grafo da atividade 8"
   ]
  },
  {
   "cell_type": "code",
   "execution_count": 5,
   "metadata": {},
   "outputs": [
    {
     "ename": "NameError",
     "evalue": "name 'print_graph' is not defined",
     "output_type": "error",
     "traceback": [
      "\u001b[1;31m---------------------------------------------------------------------------\u001b[0m",
      "\u001b[1;31mNameError\u001b[0m                                 Traceback (most recent call last)",
      "\u001b[1;32m<ipython-input-5-030ebcf40099>\u001b[0m in \u001b[0;36m<module>\u001b[1;34m()\u001b[0m\n\u001b[1;32m----> 1\u001b[1;33m \u001b[0mprint_graph\u001b[0m\u001b[1;33m(\u001b[0m\u001b[0mG\u001b[0m\u001b[1;33m)\u001b[0m\u001b[1;33m\u001b[0m\u001b[0m\n\u001b[0m",
      "\u001b[1;31mNameError\u001b[0m: name 'print_graph' is not defined"
     ]
    }
   ],
   "source": [
    "print_graph(G)"
   ]
  },
  {
   "cell_type": "markdown",
   "metadata": {},
   "source": [
    "N pares de vértices aleatórios de acordo com o Grafo criado com o custo mínimo e percurso"
   ]
  },
  {
   "cell_type": "code",
   "execution_count": 10,
   "metadata": {},
   "outputs": [
    {
     "name": "stdout",
     "output_type": "stream",
     "text": [
      "Minimum Cost from 6 to 1 : 170\n",
      "Path: [6, 3, 1]\n",
      "Minimum Cost from 7 to 0 : 260\n",
      "Path: [7, 2, 1, 0]\n",
      "Minimum Cost from 5 to 4 : 240\n",
      "Path: [5, 6, 4]\n",
      "Minimum Cost from 6 to 0 : 210\n",
      "Path: [6, 3, 0]\n",
      "Minimum Cost from 1 to 0 : 50\n",
      "Path: [1, 0]\n",
      "Minimum Cost from 2 to 6 : 230\n",
      "Path: [2, 4, 6]\n",
      "Minimum Cost from 0 to 3 : 80\n",
      "Path: [0, 3]\n",
      "Minimum Cost from 4 to 5 : 240\n",
      "Path: [4, 6, 5]\n",
      "Minimum Cost from 0 to 7 : 260\n",
      "Path: [0, 1, 2, 7]\n",
      "Minimum Cost from 5 to 2 : 260\n",
      "Path: [5, 0, 1, 2]\n"
     ]
    }
   ],
   "source": [
    "n, size = randrange(0, G.size()), G.number_of_nodes()\n",
    "for i in range(n):\n",
    "    u, v = randrange(0, size), randrange(0, size)\n",
    "    \n",
    "    print('Minimum Cost from', u, 'to', v, ':', minimum_cost(nx.shortest_path(G, u, v), G))\n",
    "    \n",
    "    print('Path: ', end='')\n",
    "    print_path(G, u, v)"
   ]
  },
  {
   "cell_type": "code",
   "execution_count": null,
   "metadata": {},
   "outputs": [],
   "source": [
    "def sssp(n, s, adj_list):\n",
    "    dist, pred = np.full(n+1, np.inf), np.full(n+1, -1)\n",
    "\n",
    "    q = priority_queue()\n",
    "    q.put((0, s))\n",
    "    dist[s] = 0\n",
    "\n",
    "    while(not q.empty()):\n",
    "        t = q.get()\n",
    "        u, d = t[1], t[0]\n",
    "\n",
    "        if (dist[u] < d): continue\n",
    "\n",
    "        for i in range(len(adj_list[u])):\n",
    "            v, w = adj_list[u][i][0], adj_list[u][i][1]\n",
    "\n",
    "            if (dist[v] < dist[u] + w): continue\n",
    "\n",
    "            pred[v], dist[v] = u, dist[u] + w\n",
    "            q.put((dist[u] + w, v))\n",
    "\n",
    "    return {'predecessor': pred, 'distance': dist}\n",
    "\n",
    "\n",
    "n, m = [int(x) for x in input().split()]\n",
    "\n",
    "adj_list = []\n",
    "for i in range(n+1): adj_list.append([])\n",
    "\n",
    "#fiz esse buses como um map pra as arestas. Cada aresta teria um id unico, no caso.\n",
    "buses = {}\n",
    "#contador pra gerar o id das arestas na hora de instanciar\n",
    "edge_counter = 1\n",
    "\n",
    "for i in range(m):\n",
    "    u, v, w = [int(x) for x in input().split()]\n",
    "\n",
    "    #usando o comprimento de onda pra gerar as arestas entre os nós\n",
    "    for i in range(lamda_20):\n",
    "        adj_list[u].append((v, w, edge_counter))\n",
    "        buses[edge_counter] = (u, v)\n",
    "        edge_counter++\n",
    "        \n",
    "        adj_list[v].append((u, w, edge_counter))\n",
    "        buses[edge_counter] = (v, u)\n",
    "        edge_counter++\n",
    "\n",
    "#instanciei o calls global, é o número de chamadas (Obvious).\n",
    "for i in range(calls):\n",
    "    s, d = randrange(0, n), randrange(0, n)\n",
    "    result = sssp(int(n), s, adj_list)\n",
    "    \n",
    "    path, pred, current_vertex = [], result['predecessor'], d\n",
    "    while(current_vertex != -1):\n",
    "        path.append(current_vertex)\n",
    "        current_vertex = pred[current_vertex]\n",
    "        \n",
    "    #booleano que checa se o caminho é válido\n",
    "    valid_call = True\n",
    "    \n",
    "    #vetor auxiliar pra inserir as arestas que são válidas na lista de arestas ocupadas\n",
    "    valid_edges = []\n",
    "    for j in range(len(path) - 2):\n",
    "        if(buses[] in occupied_edges):\n",
    "            valid call = False\n",
    "            break\n",
    "        else:\n",
    "            #insere a aresta no valid_edges\n",
    "    \n",
    "    if(valid_call):\n",
    "        #acho que essa sintaxe abaixo é válida\n",
    "        #occupied_edges ta instanciado global\n",
    "        occupied_edges.append(::valid_edges)\n",
    "\n",
    "# Minha ideia era só rodar o dijkstra nos pares gerados aleatórios e botar as arestas do caminho\n",
    "# na lista de ocupados quando possível. Se não fosse possível, um simples contador de arestas inválidas\n",
    "# já servia pra fazer a probabilidade lá.\n",
    "\n",
    "# Vê se tu consegue avanço ae\n"
   ]
  }
 ],
 "metadata": {
  "kernelspec": {
   "display_name": "Python 3",
   "language": "python",
   "name": "python3"
  },
  "language_info": {
   "codemirror_mode": {
    "name": "ipython",
    "version": 3
   },
   "file_extension": ".py",
   "mimetype": "text/x-python",
   "name": "python",
   "nbconvert_exporter": "python",
   "pygments_lexer": "ipython3",
   "version": "3.6.4"
  }
 },
 "nbformat": 4,
 "nbformat_minor": 2
}
