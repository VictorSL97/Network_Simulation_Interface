{
 "cells": [
  {
   "cell_type": "code",
   "execution_count": 108,
   "metadata": {},
   "outputs": [],
   "source": [
    "#imports\n",
    "from igraph import *\n",
    "from tkinter import *\n",
    "from functools import partial\n",
    "import numpy as np"
   ]
  },
  {
   "cell_type": "code",
   "execution_count": 111,
   "metadata": {},
   "outputs": [
    {
     "name": "stdout",
     "output_type": "stream",
     "text": [
      "1 2 3\n",
      "a b c\n",
      "b c a\n",
      "IGRAPH U-W- 3 3 --\n",
      "+ attr: label (v), weight (e)\n",
      "+ edges:\n",
      "0--1 1--2 0--2\n",
      "['a' 'b' 'c']\n",
      "[1, 2, 3]\n"
     ]
    }
   ],
   "source": [
    "def chamar_tela_login():\n",
    "    tela_login = Tk() \n",
    "    tela_login.geometry(\"500x300+300+200\") #dimensoes da janela --> Largura x Altura + DistanciaDaMargemEsquerda + DistanciaDaMargemSuperior\n",
    "    tela_login.title(\"Tópicos Especiais em Engenharia de Computação 2\") #título da janela\n",
    "    \n",
    "    lb_inicial = Label (tela_login, text=\"Simulação\", fg= \"orange\", bg=\"white\", font=[\"Verdana\", 16]).pack(pady=50) #criando rótulo\n",
    "    lb_login = Label(tela_login, text=\"Número de nós:\", bg=\"white\").place(x=110, y=130)\n",
    "    lb_senha = Label(tela_login, text=\"Número de enlaces:\", bg=\"white\").place(x=110, y=180)\n",
    "    \n",
    "    entrada_login = Entry(tela_login, width=30, bg=\"white\")\n",
    "    entrada_login.place(x=110, y=150)\n",
    "    \n",
    "    entrada_senha = Entry(tela_login, width=30, bg=\"white\")\n",
    "    entrada_senha.place(x=110, y=200)\n",
    "    \n",
    "    bt_logar = Button(tela_login, width=10, bg=\"white\", text=\"Confirmar\", command=partial(escolhe_tela, tela_login, entrada_login, entrada_senha)).place(x=275, y=230)\n",
    "    tela_login.mainloop()\n",
    "\n",
    "def escolhe_tela(tela_anterior, nos, enlaces):\n",
    "    chamar_tela_inicial(tela_anterior, nos.get(), enlaces.get())\n",
    "    \n",
    "def chamar_tela_inicial(tela_anterior, n_nos, n_enlaces):\n",
    "    tela_inicial = Tk() #criacao de uma janela - instancia de Tk\n",
    "    tela_inicial.geometry(\"500x300+300+200\") #dimensoes da janela --> Largura x Altura + DistanciaDaMargemEsquerda + DistanciaDaMargemSuperior\n",
    "    tela_inicial.title(\"Tópicos Especiais em Engenharia de Computação 2\") #título da janela\n",
    "    \n",
    "    lb_inicial = Label (tela_inicial, text=\"Simulação Parte 2\", fg= \"orange\", bg=\"white\", font=[\"Verdana\", 16]).pack(pady=50) #criando rótulo\n",
    "    \n",
    "    vetor_dist = []\n",
    "    vetor_lb_no_A = []\n",
    "    vetor_lb_no_B = []\n",
    "\n",
    "    for i in range(1, int(n_enlaces) + 1):\n",
    "        entrada_dist = Entry(tela_inicial, width=30, bg=\"white\")\n",
    "        entrada_dist.place(x=110, y=20*i + 150)\n",
    "        vetor_dist.append(entrada_dist)\n",
    "        \n",
    "        entrada_lb_A = Entry(tela_inicial, width=30, bg=\"white\")\n",
    "        entrada_lb_A.place(x=310, y=20*i + 150)\n",
    "        vetor_lb_no_A.append(entrada_lb_A)\n",
    "        \n",
    "        entrada_lb_B = Entry(tela_inicial, width=30, bg=\"white\")\n",
    "        entrada_lb_B.place(x=510, y=20*i + 150)\n",
    "        vetor_lb_no_B.append(entrada_lb_B)\n",
    "        \n",
    "    bt_cadastrar = Button (tela_inicial, width=20, text=\"Cadastrar\", command = partial(show_entry, tela_inicial, n_nos, n_enlaces, vetor_dist, vetor_lb_no_A, vetor_lb_no_B), bg=\"white\").pack() #criando botao \"cadastrar\"\n",
    "    tela_anterior.destroy()\n",
    "    \n",
    "def show_entry(tela_anterior, n_nos, n_enlaces, vetor_dist, vetor_lb_no_A, vetor_lb_no_B):\n",
    "    print(vetor_dist[0].get(), vetor_dist[1].get(), vetor_dist[2].get())\n",
    "    print(vetor_lb_no_A[0].get(), vetor_lb_no_A[1].get(), vetor_lb_no_A[2].get())\n",
    "    print(vetor_lb_no_B[0].get(), vetor_lb_no_B[1].get(), vetor_lb_no_B[2].get())\n",
    "    \n",
    "    labels = []\n",
    "    dists = []\n",
    "    dists.append([int(x.get()) for x in vetor_dist])\n",
    "    labels.append([x.get() for x in vetor_lb_no_A])\n",
    "    labels.append([x.get() for x in vetor_lb_no_B])\n",
    "        \n",
    "    labels = np.unique(labels)\n",
    "        \n",
    "    g = Graph(int(n_nos))\n",
    "    g.vs[\"label\"]=labels\n",
    "    g.es[\"weight\"]=dists[0]\n",
    "    \n",
    "    for i in range(int(n_enlaces)):\n",
    "        g.add_edge(ord(vetor_lb_no_A[i].get()) - ord('a'), ord(vetor_lb_no_B[i].get()) - ord('a'))\n",
    "    \n",
    "    print(g)\n",
    "    print(labels)\n",
    "    print(dists[0])\n",
    "    \n",
    "    tela_anterior.destroy()\n",
    "\n",
    "if __name__ == \"__main__\":\n",
    "\n",
    "    chamar_tela_login()"
   ]
  },
  {
   "cell_type": "code",
   "execution_count": 113,
   "metadata": {},
   "outputs": [
    {
     "name": "stdout",
     "output_type": "stream",
     "text": [
      "IGRAPH U-W- 9 14 --\n",
      "+ attr: label (v), weight (e)\n",
      "+ edges:\n",
      "0 -- 1 2 3       2 -- 0 1 5       4 -- 1 5 8       6 -- 3 5 7       8 -- 4 7\n",
      "1 -- 0 2 4       3 -- 0 5 6       5 -- 2 3 4 6 7   7 -- 5 6 8\n",
      "[[0, 2, 1], [0, 2], [0, 3], [0, 2, 1, 4], [0, 2, 5], [0, 2, 5, 6], [0, 2, 1, 4, 8, 7], [0, 2, 1, 4, 8]]\n"
     ]
    }
   ],
   "source": [
    "g = ig.Graph(9)\n",
    "\n",
    "g.add_edge(0,1)\n",
    "g.add_edges([(0,2),(0,3),(1,2),(1,4),(2,5),(3,5),(3,6),(4,5),(4,8),\n",
    "(5,6),(5,7),(6,7),(7,8)])\n",
    "\n",
    "g.vs[\"label\"]=[\"Sydney\",\"Melbourne\",\"Canberra\",\"Brisbane\",\"Adelaide\", \"Alice Springs\",\"Cairns\",\"Darwin\",\"Perth\"]\n",
    "\n",
    "g.es[\"weight\"]=[12, 4, 9, 6, 1, 8, 15, 31, 22, 8, 15, 32,\n",
    "24, 15, 30, 48]\n",
    "\n",
    "print(g)\n",
    "\n",
    "shortestPaths=g.get_shortest_paths(0,weights=g.es[\"weight\"],output=\"vpath\")[1:]\n",
    "print(shortestPaths)\n",
    "\n",
    "# [g.vs[i][\"label\"] for i in shortestPaths]"
   ]
  },
  {
   "cell_type": "code",
   "execution_count": 114,
   "metadata": {},
   "outputs": [
    {
     "ename": "TypeError",
     "evalue": "plotting not available",
     "output_type": "error",
     "traceback": [
      "\u001b[1;31m---------------------------------------------------------------------------\u001b[0m",
      "\u001b[1;31mTypeError\u001b[0m                                 Traceback (most recent call last)",
      "\u001b[1;32m<ipython-input-114-2e36d45d4ad0>\u001b[0m in \u001b[0;36m<module>\u001b[1;34m()\u001b[0m\n\u001b[0;32m      1\u001b[0m \u001b[0mlayout\u001b[0m \u001b[1;33m=\u001b[0m \u001b[0mg\u001b[0m\u001b[1;33m.\u001b[0m\u001b[0mlayout\u001b[0m\u001b[1;33m(\u001b[0m\u001b[1;34m\"kk\"\u001b[0m\u001b[1;33m)\u001b[0m\u001b[1;33m\u001b[0m\u001b[0m\n\u001b[1;32m----> 2\u001b[1;33m \u001b[0mplot\u001b[0m\u001b[1;33m(\u001b[0m\u001b[0mg\u001b[0m\u001b[1;33m,\u001b[0m \u001b[0mlayout\u001b[0m \u001b[1;33m=\u001b[0m \u001b[0mlayout\u001b[0m\u001b[1;33m)\u001b[0m\u001b[1;33m\u001b[0m\u001b[0m\n\u001b[0m",
      "\u001b[1;32m~\\Anaconda3\\lib\\site-packages\\igraph\\drawing\\__init__.py\u001b[0m in \u001b[0;36mplot\u001b[1;34m(obj, target, bbox, *args, **kwds)\u001b[0m\n\u001b[0;32m    447\u001b[0m         \u001b[0mbbox\u001b[0m \u001b[1;33m=\u001b[0m \u001b[0mBoundingBox\u001b[0m\u001b[1;33m(\u001b[0m\u001b[0mbbox\u001b[0m\u001b[1;33m)\u001b[0m\u001b[1;33m\u001b[0m\u001b[0m\n\u001b[0;32m    448\u001b[0m \u001b[1;33m\u001b[0m\u001b[0m\n\u001b[1;32m--> 449\u001b[1;33m     \u001b[0mresult\u001b[0m \u001b[1;33m=\u001b[0m \u001b[0mPlot\u001b[0m\u001b[1;33m(\u001b[0m\u001b[0mtarget\u001b[0m\u001b[1;33m,\u001b[0m \u001b[0mbbox\u001b[0m\u001b[1;33m,\u001b[0m \u001b[0mbackground\u001b[0m\u001b[1;33m=\u001b[0m\u001b[0mkwds\u001b[0m\u001b[1;33m.\u001b[0m\u001b[0mget\u001b[0m\u001b[1;33m(\u001b[0m\u001b[1;34m\"background\"\u001b[0m\u001b[1;33m,\u001b[0m \u001b[1;34m\"white\"\u001b[0m\u001b[1;33m)\u001b[0m\u001b[1;33m)\u001b[0m\u001b[1;33m\u001b[0m\u001b[0m\n\u001b[0m\u001b[0;32m    450\u001b[0m \u001b[1;33m\u001b[0m\u001b[0m\n\u001b[0;32m    451\u001b[0m     \u001b[1;32mif\u001b[0m \u001b[1;34m\"margin\"\u001b[0m \u001b[1;32min\u001b[0m \u001b[0mkwds\u001b[0m\u001b[1;33m:\u001b[0m\u001b[1;33m\u001b[0m\u001b[0m\n",
      "\u001b[1;32m~\\Anaconda3\\lib\\site-packages\\igraph\\drawing\\__init__.py\u001b[0m in \u001b[0;36m__init__\u001b[1;34m(self, target, bbox, palette, background)\u001b[0m\n\u001b[0;32m    114\u001b[0m         \"\"\"\n\u001b[0;32m    115\u001b[0m         \u001b[0mself\u001b[0m\u001b[1;33m.\u001b[0m\u001b[0m_filename\u001b[0m \u001b[1;33m=\u001b[0m \u001b[1;32mNone\u001b[0m\u001b[1;33m\u001b[0m\u001b[0m\n\u001b[1;32m--> 116\u001b[1;33m         \u001b[0mself\u001b[0m\u001b[1;33m.\u001b[0m\u001b[0m_surface_was_created\u001b[0m \u001b[1;33m=\u001b[0m \u001b[1;32mnot\u001b[0m \u001b[0misinstance\u001b[0m\u001b[1;33m(\u001b[0m\u001b[0mtarget\u001b[0m\u001b[1;33m,\u001b[0m \u001b[0mcairo\u001b[0m\u001b[1;33m.\u001b[0m\u001b[0mSurface\u001b[0m\u001b[1;33m)\u001b[0m\u001b[1;33m\u001b[0m\u001b[0m\n\u001b[0m\u001b[0;32m    117\u001b[0m         \u001b[0mself\u001b[0m\u001b[1;33m.\u001b[0m\u001b[0m_need_tmpfile\u001b[0m \u001b[1;33m=\u001b[0m \u001b[1;32mFalse\u001b[0m\u001b[1;33m\u001b[0m\u001b[0m\n\u001b[0;32m    118\u001b[0m \u001b[1;33m\u001b[0m\u001b[0m\n",
      "\u001b[1;32m~\\Anaconda3\\lib\\site-packages\\igraph\\drawing\\utils.py\u001b[0m in \u001b[0;36m__getattr__\u001b[1;34m(self, _)\u001b[0m\n\u001b[0;32m    394\u001b[0m \u001b[1;33m\u001b[0m\u001b[0m\n\u001b[0;32m    395\u001b[0m     \u001b[1;32mdef\u001b[0m \u001b[0m__getattr__\u001b[0m\u001b[1;33m(\u001b[0m\u001b[0mself\u001b[0m\u001b[1;33m,\u001b[0m \u001b[0m_\u001b[0m\u001b[1;33m)\u001b[0m\u001b[1;33m:\u001b[0m\u001b[1;33m\u001b[0m\u001b[0m\n\u001b[1;32m--> 396\u001b[1;33m         \u001b[1;32mraise\u001b[0m \u001b[0mTypeError\u001b[0m\u001b[1;33m(\u001b[0m\u001b[1;34m\"plotting not available\"\u001b[0m\u001b[1;33m)\u001b[0m\u001b[1;33m\u001b[0m\u001b[0m\n\u001b[0m\u001b[0;32m    397\u001b[0m     \u001b[1;32mdef\u001b[0m \u001b[0m__call__\u001b[0m\u001b[1;33m(\u001b[0m\u001b[0mself\u001b[0m\u001b[1;33m,\u001b[0m \u001b[0m_\u001b[0m\u001b[1;33m)\u001b[0m\u001b[1;33m:\u001b[0m\u001b[1;33m\u001b[0m\u001b[0m\n\u001b[0;32m    398\u001b[0m         \u001b[1;32mraise\u001b[0m \u001b[0mTypeError\u001b[0m\u001b[1;33m(\u001b[0m\u001b[1;34m\"plotting not available\"\u001b[0m\u001b[1;33m)\u001b[0m\u001b[1;33m\u001b[0m\u001b[0m\n",
      "\u001b[1;31mTypeError\u001b[0m: plotting not available"
     ]
    }
   ],
   "source": [
    "grafo = Graph.Famous(\"petersen\")\n",
    "plot(grafo)"
   ]
  }
 ],
 "metadata": {
  "kernelspec": {
   "display_name": "Python 3",
   "language": "python",
   "name": "python3"
  },
  "language_info": {
   "codemirror_mode": {
    "name": "ipython",
    "version": 3
   },
   "file_extension": ".py",
   "mimetype": "text/x-python",
   "name": "python",
   "nbconvert_exporter": "python",
   "pygments_lexer": "ipython3",
   "version": "3.6.4"
  }
 },
 "nbformat": 4,
 "nbformat_minor": 2
}
