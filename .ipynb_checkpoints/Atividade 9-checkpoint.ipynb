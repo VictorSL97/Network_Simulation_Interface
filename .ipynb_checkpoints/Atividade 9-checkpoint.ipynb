{
 "cells": [
  {
   "cell_type": "code",
   "execution_count": 2,
   "metadata": {},
   "outputs": [],
   "source": [
    "#imports\n",
    "import matplotlib.pyplot as plt\n",
    "import networkx as nx\n",
    "from igraph import *\n",
    "from tkinter import *\n",
    "from functools import partial\n",
    "import numpy as np"
   ]
  },
  {
   "cell_type": "code",
   "execution_count": 45,
   "metadata": {},
   "outputs": [],
   "source": [
    "nodes = []\n",
    "edges = []\n",
    "\n",
    "def first_screen():\n",
    "    graph_main_info = Tk() \n",
    "    graph_main_info.geometry(\"500x300+300+200\") #dimensoes da janela --> Largura x Altura + DistanciaDaMargemEsquerda + DistanciaDaMargemSuperior\n",
    "    graph_main_info.title(\"Tópicos Especiais em Engenharia de Computação 2\") #título da janela\n",
    "    \n",
    "    lb_secondary_title = Label (graph_main_info, text=\"Simulação\", fg= \"orange\", bg=\"white\", font=[\"Verdana\", 16]).pack(pady=50) #criando rótulo\n",
    "    lb_node = Label(graph_main_info, text=\"Número de nós:\", bg=\"white\").place(x=110, y=130)\n",
    "    lb_edge = Label(graph_main_info, text=\"Número de enlaces:\", bg=\"white\").place(x=110, y=180)\n",
    "    \n",
    "    node_qnt_input = Entry(graph_main_info, width=30, bg=\"white\")\n",
    "    node_qnt_input.place(x=110, y=150)\n",
    "    \n",
    "    edge_qnt_input = Entry(graph_main_info, width=30, bg=\"white\")\n",
    "    edge_qnt_input.place(x=110, y=200)\n",
    "    \n",
    "    bt_confirm = Button(graph_main_info, width=10, bg=\"white\", text=\"Confirmar\", command=partial(second_screen_transition, graph_main_info, node_qnt_input, edge_qnt_input)).place(x=275, y=230)\n",
    "    graph_main_info.mainloop()\n",
    "\n",
    "def second_screen_transition(previous_screen, node_qnt, edge_qnt):\n",
    "    second_screen(previous_screen, int(node_qnt.get()), int(edge_qnt.get()))\n",
    "    \n",
    "def second_screen(previous_screen, node_qnt, edge_qnt):\n",
    "    graph_specs = Tk() #criacao de uma janela - instancia de Tk\n",
    "    graph_specs.geometry(\"500x300+300+200\") #dimensoes da janela --> Largura x Altura + DistanciaDaMargemEsquerda + DistanciaDaMargemSuperior\n",
    "    graph_specs.title(\"Tópicos Especiais em Engenharia de Computação 2\") #título da janela\n",
    "    \n",
    "    lb_secondary_title = Label (graph_specs, text=\"Simulação Parte 2\", fg= \"orange\", bg=\"white\", font=[\"Verdana\", 16]).pack(pady=50) #criando rótulo\n",
    "    \n",
    "    dist_vector = []\n",
    "    lb_A_vector = []\n",
    "    lb_B_vector = []\n",
    "\n",
    "    for i in range(1, int(edge_qnt) + 1):\n",
    "        dist_input = Entry(graph_specs, width=30, bg=\"white\")\n",
    "        dist_input.place(x=110, y=20*i + 150)\n",
    "        dist_vector.append(dist_input)\n",
    "        \n",
    "        lb_A_input = Entry(graph_specs, width=30, bg=\"white\")\n",
    "        lb_A_input.place(x=310, y=20*i + 150)\n",
    "        lb_A_vector.append(lb_A_input)\n",
    "        \n",
    "        lb_B_input = Entry(graph_specs, width=30, bg=\"white\")\n",
    "        lb_B_input.place(x=510, y=20*i + 150)\n",
    "        lb_B_vector.append(lb_B_input)\n",
    "        \n",
    "    bt_confirm = Button (graph_specs, width=20, text=\"Cadastrar\", command = partial(process_graph_info, graph_specs, node_qnt, edge_qnt, dist_vector, lb_A_vector, lb_B_vector), bg=\"white\").pack() #criando botao \"cadastrar\"\n",
    "    previous_screen.destroy()\n",
    "    \n",
    "def process_graph_info(previous_screen, node_qnt, edge_qnt, dist_vector, lb_A_vector, lb_B_vector):\n",
    "    processed_labels = []\n",
    "    processed_dists = []\n",
    "    \n",
    "#     for i in range(len(lb_A_vector))\n",
    "    \n",
    "    for d in dist_vector:\n",
    "        processed_dists.append(int(d.get()))\n",
    "        \n",
    "    processed_labels.append([lb.get() for lb in lb_A_vector])\n",
    "    processed_labels.append([lb.get() for lb in lb_B_vector])\n",
    "        \n",
    "    processed_labels = np.unique(processed_labels)\n",
    "    \n",
    "    newtwork = Graph(node_qnt)\n",
    "#     newtwork.vs[\"label\"] = processed_labels\n",
    "    newtwork.es[\"weight\"] = processed_dists\n",
    "    \n",
    "    ascii_default_value = ord('a')\n",
    "    for i in range(edge_qnt):\n",
    "        u = ord(lb_A_vector[i].get()) - ascii_default_value\n",
    "        v = ord(lb_B_vector[i].get()) - ascii_default_value\n",
    "        w = processed_dists[i\n",
    "                           ]\n",
    "        newtwork.add_edge(u, v)\n",
    "        print(u, v, '-------')\n",
    "        edges.append((u, v, w))\n",
    "    \n",
    "    print(newtwork)\n",
    "    print(edges)\n",
    "    create_graph(node_qnt)\n",
    "\n",
    "#     shortestPaths = newtwork.get_shortest_paths(\"a\",to=\"c\",mode=OUT,output=\"vpath\")\n",
    "#     print(shortestPaths)\n",
    "\n",
    "#     [newtwork.vs[i][\"label\"] for i in shortestPaths]\n",
    "    \n",
    "    previous_screen.destroy()\n",
    "    \n",
    "def create_graph(node_qnt):\n",
    "    G = nx.Graph()\n",
    "    \n",
    "    for i in range(1, node_qnt + 1):\n",
    "        G.add_node(i)\n",
    "    \n",
    "    for e in edges:\n",
    "        G.add_edge(e[0], e[1], weight = e[2])\n",
    "    \n",
    "    pos=nx.spring_layout(G)\n",
    "    nx.draw(G,pos)\n",
    "    labels = nx.get_edge_attributes(G,'weight')\n",
    "    nx.draw_networkx_edge_labels(G,pos,edge_labels=labels)"
   ]
  },
  {
   "cell_type": "code",
   "execution_count": 46,
   "metadata": {},
   "outputs": [
    {
     "name": "stdout",
     "output_type": "stream",
     "text": [
      "0 1 -------\n",
      "1 2 -------\n",
      "2 0 -------\n",
      "IGRAPH U-W- 3 3 --\n",
      "+ attr: weight (e)\n",
      "+ edges:\n",
      "0--1 1--2 0--2\n",
      "[(0, 1, 1), (1, 2, 2), (2, 0, 3)]\n"
     ]
    },
    {
     "name": "stderr",
     "output_type": "stream",
     "text": [
      "Exception in Tkinter callback\n",
      "Traceback (most recent call last):\n",
      "  File \"C:\\Users\\Victor\\Anaconda3\\lib\\site-packages\\networkx\\drawing\\nx_pylab.py\", line 394, in draw_networkx_nodes\n",
      "    xy = np.asarray([pos[v] for v in nodelist])\n",
      "  File \"C:\\Users\\Victor\\Anaconda3\\lib\\site-packages\\networkx\\drawing\\nx_pylab.py\", line 394, in <listcomp>\n",
      "    xy = np.asarray([pos[v] for v in nodelist])\n",
      "KeyError: 1\n",
      "\n",
      "During handling of the above exception, another exception occurred:\n",
      "\n",
      "Traceback (most recent call last):\n",
      "  File \"C:\\Users\\Victor\\Anaconda3\\lib\\tkinter\\__init__.py\", line 1699, in __call__\n",
      "    return self.func(*args)\n",
      "  File \"<ipython-input-45-e9b9527f6887>\", line 82, in process_graph_info\n",
      "    create_graph(node_qnt)\n",
      "  File \"<ipython-input-45-e9b9527f6887>\", line 101, in create_graph\n",
      "    nx.draw(G,pos)\n",
      "  File \"C:\\Users\\Victor\\Anaconda3\\lib\\site-packages\\networkx\\drawing\\nx_pylab.py\", line 126, in draw\n",
      "    draw_networkx(G, pos=pos, ax=ax, **kwds)\n",
      "  File \"C:\\Users\\Victor\\Anaconda3\\lib\\site-packages\\networkx\\drawing\\nx_pylab.py\", line 277, in draw_networkx\n",
      "    node_collection = draw_networkx_nodes(G, pos, **kwds)\n",
      "  File \"C:\\Users\\Victor\\Anaconda3\\lib\\site-packages\\networkx\\drawing\\nx_pylab.py\", line 396, in draw_networkx_nodes\n",
      "    raise nx.NetworkXError('Node %s has no position.' % e)\n",
      "networkx.exception.NetworkXError: Node 1 has no position.\n"
     ]
    },
    {
     "data": {
      "image/png": "[encoded data removed]",
      "text/plain": [
       "<matplotlib.figure.Figure at 0x7588ed9d30>"
      ]
     },
     "metadata": {},
     "output_type": "display_data"
    }
   ],
   "source": [
    "if __name__ == \"__main__\":\n",
    "\n",
    "    first_screen()\n",
    "    "
   ]
  },
  {
   "cell_type": "code",
   "execution_count": 30,
   "metadata": {},
   "outputs": [
    {
     "name": "stdout",
     "output_type": "stream",
     "text": [
      "IGRAPH U-W- 9 14 --\n",
      "+ attr: label (v), weight (e)\n",
      "+ edges:\n",
      "0 -- 1 2 3       2 -- 0 1 5       4 -- 1 5 8       6 -- 3 5 7       8 -- 4 7\n",
      "1 -- 0 2 4       3 -- 0 5 6       5 -- 2 3 4 6 7   7 -- 5 6 8\n",
      "[[0, 2, 1], [0, 2], [0, 3], [0, 2, 1, 4], [0, 2, 5], [0, 2, 5, 6], [0, 2, 1, 4, 8, 7], [0, 2, 1, 4, 8]]\n"
     ]
    },
    {
     "data": {
      "text/plain": [
       "[['Sydney', 'Canberra', 'Melbourne'],\n",
       " ['Sydney', 'Canberra'],\n",
       " ['Sydney', 'Brisbane'],\n",
       " ['Sydney', 'Canberra', 'Melbourne', 'Adelaide'],\n",
       " ['Sydney', 'Canberra', 'Alice Springs'],\n",
       " ['Sydney', 'Canberra', 'Alice Springs', 'Cairns'],\n",
       " ['Sydney', 'Canberra', 'Melbourne', 'Adelaide', 'Perth', 'Darwin'],\n",
       " ['Sydney', 'Canberra', 'Melbourne', 'Adelaide', 'Perth']]"
      ]
     },
     "execution_count": 30,
     "metadata": {},
     "output_type": "execute_result"
    }
   ],
   "source": [
    "g = Graph(9)\n",
    "\n",
    "g.add_edge(0,1)\n",
    "g.add_edges([(0,2),(0,3),(1,2),(1,4),(2,5),(3,5),(3,6),(4,5),(4,8),\n",
    "(5,6),(5,7),(6,7),(7,8)])\n",
    "\n",
    "# g.vs[\"label\"]=[\"Sydney\",\"Melbourne\",\"Canberra\",\"Brisbane\",\"Adelaide\", \"Alice Springs\",\"Cairns\",\"Darwin\",\"Perth\"]\n",
    "\n",
    "g.es[\"weight\"]=[12, 4, 9, 6, 1, 8, 15, 31, 22, 8, 15, 32,\n",
    "24, 15, 30, 48]\n",
    "\n",
    "print(g)\n",
    "\n",
    "shortestPaths=g.get_shortest_paths(0,weights=g.es[\"weight\"],output=\"vpath\")[1:]\n",
    "print(shortestPaths)\n",
    "\n",
    "[g.vs[i][\"label\"] for i in shortestPaths]"
   ]
  },
  {
   "cell_type": "code",
   "execution_count": 52,
   "metadata": {},
   "outputs": [
    {
     "data": {
      "text/plain": [
       "{(1, 2): Text(0.0227328,-0.356465,'0.5'), (1, 3): Text(-0.0319414,0.5,'9.8')}"
      ]
     },
     "execution_count": 52,
     "metadata": {},
     "output_type": "execute_result"
    },
    {
     "data": {
      "image/png": "[encoded data removed]",
      "text/plain": [
       "<matplotlib.figure.Figure at 0x758714d5c0>"
      ]
     },
     "metadata": {},
     "output_type": "display_data"
    }
   ],
   "source": [
    "G=nx.Graph()\n",
    "G.add_node(1)\n",
    "G.add_node(2)\n",
    "G.add_node(3)\n",
    "G.add_edge(1,2,weight=0.5)\n",
    "G.add_edge(1,3,weight=9.8)\n",
    "pos=nx.spring_layout(G)\n",
    "nx.draw(G,pos)\n",
    "labels = nx.get_edge_attributes(G,'weight')\n",
    "nx.draw_networkx_edge_labels(G,pos,edge_labels=labels)\n",
    "# plt.savefig(<wherever>)\n"
   ]
  },
  {
   "cell_type": "code",
   "execution_count": 50,
   "metadata": {},
   "outputs": [
    {
     "data": {
      "image/png": "[encoded data removed]",
      "text/plain": [
       "<matplotlib.figure.Figure at 0x75871e7828>"
      ]
     },
     "metadata": {},
     "output_type": "display_data"
    }
   ],
   "source": [
    "G=nx.Graph()\n",
    "\n",
    "G.add_edge('a','b',weight=0.6)\n",
    "G.add_edge('a','c',weight=0.2)\n",
    "G.add_edge('c','d',weight=0.1)\n",
    "G.add_edge('c','e',weight=0.7)\n",
    "G.add_edge('c','f',weight=0.9)\n",
    "G.add_edge('a','d',weight=0.3)\n",
    "\n",
    "elarge=[(u,v) for (u,v,d) in G.edges(data=True) if d['weight'] >0.5]\n",
    "esmall=[(u,v) for (u,v,d) in G.edges(data=True) if d['weight'] <=0.5]\n",
    "\n",
    "pos=nx.spring_layout(G) # positions for all nodes\n",
    "\n",
    "# nodes\n",
    "nx.draw_networkx_nodes(G,pos,node_size=700)\n",
    "\n",
    "# edges\n",
    "nx.draw_networkx_edges(G,pos,edgelist=elarge,\n",
    "                    width=6)\n",
    "nx.draw_networkx_edges(G,pos,edgelist=esmall,\n",
    "                    width=6,alpha=0.5,edge_color='b',style='dashed')\n",
    "\n",
    "# labels\n",
    "nx.draw_networkx_labels(G,pos,font_size=20,font_family='sans-serif')\n",
    "\n",
    "plt.axis('off')\n",
    "plt.savefig(\"weighted_graph.png\") # save as png\n",
    "plt.show() # display"
   ]
  }
 ],
 "metadata": {
  "kernelspec": {
   "display_name": "Python 3",
   "language": "python",
   "name": "python3"
  },
  "language_info": {
   "codemirror_mode": {
    "name": "ipython",
    "version": 3
   },
   "file_extension": ".py",
   "mimetype": "text/x-python",
   "name": "python",
   "nbconvert_exporter": "python",
   "pygments_lexer": "ipython3",
   "version": "3.6.4"
  }
 },
 "nbformat": 4,
 "nbformat_minor": 2
}
